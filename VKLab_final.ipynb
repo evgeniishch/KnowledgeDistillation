{
 "cells": [
  {
   "cell_type": "markdown",
   "metadata": {},
   "source": [
    "## Тестовое задание для VKLab"
   ]
  },
  {
   "cell_type": "markdown",
   "metadata": {},
   "source": [
    "Список литературы:\n",
    "    1. https://arxiv.org/pdf/1503.02531.pdf\n",
    "    2. https://arxiv.org/pdf/2004.05937v3.pdf"
   ]
  },
  {
   "cell_type": "markdown",
   "metadata": {},
   "source": [
    "Зависимости:\n",
    "    1. https://github.com/pabloppp/pytorch-tools"
   ]
  },
  {
   "cell_type": "markdown",
   "metadata": {},
   "source": [
    "### Постановка задачи"
   ]
  },
  {
   "cell_type": "markdown",
   "metadata": {},
   "source": [
    "Целью этого тестового задания я ставлю разобраться с методом Knowledge Distillation (KD) и самостоятельно протестировать его на практике. "
   ]
  },
  {
   "cell_type": "markdown",
   "metadata": {},
   "source": [
    "### Подготовительные процедуры"
   ]
  },
  {
   "cell_type": "code",
   "execution_count": 1,
   "metadata": {},
   "outputs": [],
   "source": [
    "import numpy as np\n",
    "import torch.nn as nn\n",
    "import torch\n",
    "import torchvision\n",
    "import random"
   ]
  },
  {
   "cell_type": "code",
   "execution_count": 2,
   "metadata": {},
   "outputs": [],
   "source": [
    "from torch.utils.data import TensorDataset, DataLoader, Dataset\n",
    "from torch.utils.data import RandomSampler, SequentialSampler\n",
    "from torchvision import datasets, models, transforms\n",
    "from torchtools.optim import Ralamb\n",
    "import os"
   ]
  },
  {
   "cell_type": "code",
   "execution_count": 3,
   "metadata": {},
   "outputs": [],
   "source": [
    "# обеспечим воспроизводимость результатов\n",
    "\n",
    "def set_seed(seed = 1234):\n",
    "    np.random.seed(seed)\n",
    "    random.seed(seed)\n",
    "    torch.manual_seed(seed)\n",
    "    torch.cuda.manual_seed(seed)\n",
    "\n",
    "set_seed()"
   ]
  },
  {
   "cell_type": "code",
   "execution_count": 4,
   "metadata": {},
   "outputs": [],
   "source": [
    "device = torch.device('cuda' if torch.cuda.is_available() else 'cpu')"
   ]
  },
  {
   "cell_type": "markdown",
   "metadata": {},
   "source": [
    "### Определим модель-учителя"
   ]
  },
  {
   "cell_type": "markdown",
   "metadata": {},
   "source": [
    "Я сфокусируюсь на моделях компьютерного зрения, взяв в качестве датасета предложенный организаторами imagewoof, а в качестве модели-учителя - pretrained ResNet50."
   ]
  },
  {
   "cell_type": "code",
   "execution_count": 5,
   "metadata": {},
   "outputs": [],
   "source": [
    "num_classes = 10\n",
    "batch_size = 128"
   ]
  },
  {
   "cell_type": "code",
   "execution_count": 8,
   "metadata": {},
   "outputs": [],
   "source": [
    "def initialize_model(num_classes):\n",
    "    model = models.resnet50(pretrained=True)\n",
    "    \n",
    "    for param in model.parameters():\n",
    "        param.requires_grad = False\n",
    "    \n",
    "    num_ftrs = model.fc.in_features\n",
    "    model.fc = nn.Linear(num_ftrs, num_classes)\n",
    "    input_size = 224\n",
    "    \n",
    "    return model, input_size"
   ]
  },
  {
   "cell_type": "code",
   "execution_count": 6,
   "metadata": {},
   "outputs": [],
   "source": [
    "model_teacher, input_size = initialize_model(num_classes)"
   ]
  },
  {
   "cell_type": "code",
   "execution_count": 7,
   "metadata": {},
   "outputs": [],
   "source": [
    "from torchtools.optim import Ranger\n",
    "\n",
    "model_teacher = model_teacher.to(device)\n",
    "\n",
    "teacher_params = []\n",
    "for name, param in model_teacher.named_parameters():\n",
    "    if param.requires_grad == True:\n",
    "        teacher_params.append(param)\n",
    "\n",
    "optimizer_teacher = Ranger(teacher_params, lr=0.001)"
   ]
  },
  {
   "cell_type": "markdown",
   "metadata": {},
   "source": [
    "### Подготовка данных"
   ]
  },
  {
   "cell_type": "code",
   "execution_count": 56,
   "metadata": {},
   "outputs": [],
   "source": [
    "data_dir = 'imagewoof2-320/'"
   ]
  },
  {
   "cell_type": "code",
   "execution_count": 59,
   "metadata": {},
   "outputs": [],
   "source": [
    "data_transforms = {\n",
    "    'train': transforms.Compose([\n",
    "        transforms.RandomResizedCrop(input_size),\n",
    "        transforms.RandomHorizontalFlip(),\n",
    "        transforms.ToTensor(),\n",
    "        transforms.Normalize([0.485, 0.456, 0.406], [0.229, 0.224, 0.225])\n",
    "    ]),\n",
    "    'val': transforms.Compose([\n",
    "        transforms.Resize(input_size),\n",
    "        transforms.CenterCrop(input_size),\n",
    "        transforms.ToTensor(),\n",
    "        transforms.Normalize([0.485, 0.456, 0.406], [0.229, 0.224, 0.225])\n",
    "    ]),\n",
    "    'test': transforms.Compose([\n",
    "        transforms.Resize(input_size),\n",
    "        transforms.CenterCrop(input_size),\n",
    "        transforms.ToTensor(),\n",
    "        transforms.Normalize([0.485, 0.456, 0.406], [0.229, 0.224, 0.225])\n",
    "    ])\n",
    "}"
   ]
  },
  {
   "cell_type": "code",
   "execution_count": 60,
   "metadata": {},
   "outputs": [],
   "source": [
    "image_datasets = {x: datasets.ImageFolder(os.path.join(data_dir, x), data_transforms[x]) for x in ['train', 'val', 'test']}\n",
    "\n",
    "dataloaders_dict = {x: torch.utils.data.DataLoader(image_datasets[x], batch_size=batch_size, shuffle=True, num_workers=8) for x in ['train', 'val', 'test']}"
   ]
  },
  {
   "cell_type": "markdown",
   "metadata": {},
   "source": [
    "### Функция для обучения"
   ]
  },
  {
   "cell_type": "markdown",
   "metadata": {},
   "source": [
    "Я попытаюсь продемонстрировать простейший способ Knowledge Distillation, предложенный Hinton et al. \n",
    "А именно, при обучении модели-ученика, будем использовать Loss-функцию, учитывающую предсказания модели-учителя:\n",
    "\n",
    "$$ L(x,W)=\\alpha H(y, \\sigma (z_s; T=1)+ \\beta  H(\\sigma(z_t;T =\\tau),\\sigma(z_s,T = \\tau)) $$\n",
    "\n",
    "где x это входные данные, W - параметры модели-ученика, H - функция потерь (например, кросс-энтропия), y - метки классов, $\\sigma$ - функция Softmax, параметризаванная температурой T, $\\alpha$ and $\\beta$ - коэффиценты, $z_s$ and $z_t$ - logits студента и ученика.\n",
    "\n",
    "У меня $$\\beta = 1 - \\alpha$$"
   ]
  },
  {
   "cell_type": "code",
   "execution_count": 208,
   "metadata": {},
   "outputs": [],
   "source": [
    "def studentLossFn(teacher_pred, student_pred, y, T, alpha):\n",
    "    if (alpha > 0):\n",
    "        loss = F.kl_div(F.log_softmax(student_pred / T, dim=1), F.softmax(teacher_pred / T, dim=1), reduction='batchmean') * (T ** 2) * alpha + F.cross_entropy(student_pred, y) * (1 - alpha)\n",
    "    else:\n",
    "        loss = F.cross_entropy(student_pred, y)\n",
    "    return loss"
   ]
  },
  {
   "cell_type": "code",
   "execution_count": null,
   "metadata": {},
   "outputs": [],
   "source": [
    "def train(model_type, model, dataloaders, criterion, optimizer, num_epochs, teacher_model=None):\n",
    "    since = time.time()\n",
    "    \n",
    "    val_acc_history = []\n",
    "    \n",
    "    best_model_wts = copy.deepcopy(model.state_dict())\n",
    "    best_acc = 0.0\n",
    "    \n",
    "    for epoch in range(num_epochs):\n",
    "        print('Epoch {}/{}'.format(epoch, num_epochs - 1))\n",
    "        print('-' * 10)\n",
    "        \n",
    "        for phase in ['train', 'val']:\n",
    "            if phase == 'train':\n",
    "                model.train()\n",
    "            else:\n",
    "                model.eval()\n",
    "                \n",
    "            running_loss = 0.0\n",
    "            running_corrects = 0.0\n",
    "            \n",
    "            # iterate over data\n",
    "            for inputs, labels in dataloaders[phase]:\n",
    "                inputs = inputs.to(device)\n",
    "                labels = labels.to(device)\n",
    "                \n",
    "                optimizer.zero_grad()\n",
    "                \n",
    "                with torch.set_grad_enabled(phase == 'train'):\n",
    "                    outputs = model(inputs)\n",
    "                    \n",
    "                    if model_type == 'teacher' or model_type == 'student_solo':\n",
    "                        loss = criterion(outputs, labels)\n",
    "                    elif model_type == 'student':\n",
    "                        teacher_pred = teacher_model(inputs)\n",
    "                        loss = studentLossFn(teacher_pred, outputs, labels, T=10, alpha=0.1)\n",
    "                    \n",
    "                    _, preds = torch.max(outputs, 1)\n",
    "                    \n",
    "                    # backprop\n",
    "                    if phase == 'train':\n",
    "                        loss.backward()\n",
    "                        optimizer.step()\n",
    "                        \n",
    "                running_loss += loss.item() * inputs.size(0)\n",
    "                running_corrects += torch.sum(preds == labels.data)\n",
    "                \n",
    "            \n",
    "            epoch_loss = running_loss / len(dataloaders[phase].dataset)\n",
    "            epoch_acc = running_corrects.double() / len(dataloaders[phase].dataset)\n",
    "            \n",
    "            print('{} Loss: {:.4f} Acc: {:.4f}'.format(phase, epoch_loss, epoch_acc))\n",
    "            \n",
    "            \n",
    "            # deep copy the model\n",
    "            if phase == 'val' and epoch_acc > best_acc:\n",
    "                best_acc = epoch_acc\n",
    "                best_model_wts = copy.deepcopy(model.state_dict())\n",
    "                torch.save(model.state_dict(), model_type + 'saved_weights_v1_'+ 'e_' + str(epoch) + '.pt')\n",
    "            if phase == 'val':\n",
    "                val_acc_history.append(epoch_acc)\n",
    "        \n",
    "        print()\n",
    "        \n",
    "        \n",
    "    time_elapsed = time.time() - since\n",
    "    print('Training complete in {:.0f}m {:.0f}s'.format(time_elapsed // 60, time_elapsed % 60))\n",
    "    print('Best val Acc: {:4f}'.format(best_acc))\n",
    "\n",
    "    # load best model weights\n",
    "    model.load_state_dict(best_model_wts)\n",
    "    return model, val_acc_history"
   ]
  },
  {
   "cell_type": "markdown",
   "metadata": {},
   "source": [
    "### Обучение модели-учителя"
   ]
  },
  {
   "cell_type": "markdown",
   "metadata": {},
   "source": [
    "Проведем fine-tuning модели ResNet50 для задачи классификации пород собак (датасет - imagewoof)."
   ]
  },
  {
   "cell_type": "code",
   "execution_count": null,
   "metadata": {},
   "outputs": [],
   "source": [
    "import time\n",
    "import copy"
   ]
  },
  {
   "cell_type": "code",
   "execution_count": null,
   "metadata": {},
   "outputs": [],
   "source": [
    "num_epochs_teacher = 20"
   ]
  },
  {
   "cell_type": "code",
   "execution_count": null,
   "metadata": {},
   "outputs": [],
   "source": [
    "# Setup the loss fxn\n",
    "criterion_teacher = nn.CrossEntropyLoss()\n",
    "\n",
    "# Train and evaluate\n",
    "best_teacher, teacher_hist = train('teacher', \n",
    "                                   model_teacher, \n",
    "                                   dataloaders_dict, \n",
    "                                   criterion_teacher, \n",
    "                                   optimizer_teacher, \n",
    "                                   num_epochs_teacher,\n",
    "                                   None)"
   ]
  },
  {
   "cell_type": "markdown",
   "metadata": {},
   "source": [
    "### Обучение модели ученика"
   ]
  },
  {
   "cell_type": "markdown",
   "metadata": {},
   "source": [
    "В качетсве модели-ученика возьмем небольшую CNN."
   ]
  },
  {
   "cell_type": "code",
   "execution_count": 42,
   "metadata": {},
   "outputs": [],
   "source": [
    "import torch.nn.functional as F"
   ]
  },
  {
   "cell_type": "code",
   "execution_count": 43,
   "metadata": {},
   "outputs": [],
   "source": [
    "class StudentNetwork(nn.Module):\n",
    "    def __init__(self):\n",
    "        super(StudentNetwork, self).__init__()\n",
    "        self.conv1 = nn.Conv2d(3, 6, 5)\n",
    "        self.pool = nn.MaxPool2d(2, 2)\n",
    "        self.conv2 = nn.Conv2d(6, 16, 5)\n",
    "        self.fc1 = nn.Linear(16 * 53 * 53, 120)\n",
    "        self.fc2 = nn.Linear(120, 84)\n",
    "        self.fc3 = nn.Linear(84, 10)\n",
    "    \n",
    "    def forward(self, x):\n",
    "        x = self.pool(F.relu(self.conv1(x)))\n",
    "        x = self.pool(F.relu(self.conv2(x)))\n",
    "        x = x.view(-1, 16 * 53 * 53)\n",
    "        x = F.relu(self.fc1(x))\n",
    "        x = F.relu(self.fc2(x))\n",
    "        x = self.fc3(x)\n",
    "        return x"
   ]
  },
  {
   "cell_type": "code",
   "execution_count": 45,
   "metadata": {},
   "outputs": [],
   "source": [
    "model_student = StudentNetwork()\n",
    "model_student = model_student.to(device)\n",
    "\n",
    "optimizer_student = Ranger(model_student.parameters(), lr=0.001)"
   ]
  },
  {
   "cell_type": "code",
   "execution_count": null,
   "metadata": {},
   "outputs": [],
   "source": [
    "best_student, student_hist = train('student', \n",
    "                                           model_student, \n",
    "                                           dataloaders_dict, \n",
    "                                           criterion,\n",
    "                                           optimizer_student, \n",
    "                                           num_epochs=500, \n",
    "                                           teacher_model=model_teacher)"
   ]
  },
  {
   "cell_type": "markdown",
   "metadata": {},
   "source": [
    "### Маленькая модель в соло(без учителя)"
   ]
  },
  {
   "cell_type": "code",
   "execution_count": 31,
   "metadata": {},
   "outputs": [],
   "source": [
    "student_net_solo = StudentNetwork()\n",
    "student_net_solo = student_net_solo.to(device)\n",
    "\n",
    "optimizer_student_solo = Ranger(student_net_solo.parameters(), lr=0.001)\n",
    "criterion = nn.CrossEntropyLoss()"
   ]
  },
  {
   "cell_type": "code",
   "execution_count": null,
   "metadata": {},
   "outputs": [],
   "source": [
    "best_student_solo, solo_hist = train_solo('student_solo_', \n",
    "                                                          student_net_solo, \n",
    "                                                          dataloaders_dict, \n",
    "                                                          criterion, \n",
    "                                                          optimizer_student_solo, \n",
    "                                                          num_epochs=500,\n",
    "                                                          None)"
   ]
  },
  {
   "cell_type": "markdown",
   "metadata": {},
   "source": [
    "### Первые результаты"
   ]
  },
  {
   "cell_type": "markdown",
   "metadata": {},
   "source": [
    "После $500$ эпох обучения этого эксперимента мы можем наблюдать следующие результаты:\n",
    "    1. Для обеих моделей на валидации мы достигли значения accuracy 0.54\n",
    "    2. В борьбе за доли процента в ходе валидации все-таки победила модель, пользующаяся поддержкой учителя: \n",
    "       0.543 VS 0.542\n",
    "    3. Во время обучения соло-модель делала больше промахов на валидации"
   ]
  },
  {
   "cell_type": "code",
   "execution_count": 50,
   "metadata": {},
   "outputs": [
    {
     "data": {
      "image/png": "[encoded data removed]",
      "text/plain": [
       "<Figure size 1080x720 with 1 Axes>"
      ]
     },
     "metadata": {
      "needs_background": "light"
     },
     "output_type": "display_data"
    }
   ],
   "source": [
    "import matplotlib.pyplot as plt\n",
    "\n",
    "axis_x = np.arange(0, 500)\n",
    "\n",
    "plt.figure(figsize=(15, 10))\n",
    "plt.plot(axis_x, student_hist, label='Student model')\n",
    "plt.plot(axis_x, solo_hist, label='Solo model')\n",
    "plt.xlabel('Epoch')\n",
    "plt.ylabel('Validation accuracy')\n",
    "plt.legend()\n",
    "plt.show()"
   ]
  },
  {
   "cell_type": "markdown",
   "metadata": {},
   "source": [
    "Теперь посмотрим, как покажут себя две модели на тестовых данных"
   ]
  },
  {
   "cell_type": "code",
   "execution_count": 99,
   "metadata": {},
   "outputs": [],
   "source": [
    "def test(model, dataloaders):\n",
    "    model.eval()\n",
    "    \n",
    "    mistakes = 0\n",
    "    total = 0\n",
    "    correct = 0\n",
    "\n",
    "    for inputs, labels in dataloaders['test']:\n",
    "        inputs = inputs.to(device)\n",
    "        with torch.no_grad():\n",
    "            preds = model(inputs).to('cpu')\n",
    "            _, predicted = torch.max(preds.data, 1)\n",
    "            total += labels.size(0)\n",
    "            correct += (predicted == labels).sum().item()\n",
    "            mistakes += (predicted != labels).sum().item()\n",
    "    \n",
    "    return 100 * correct / total, mistakes, total"
   ]
  },
  {
   "cell_type": "markdown",
   "metadata": {},
   "source": [
    "Соло-модель:"
   ]
  },
  {
   "cell_type": "code",
   "execution_count": 101,
   "metadata": {},
   "outputs": [
    {
     "name": "stdout",
     "output_type": "stream",
     "text": [
      "Accuracy:  51.228070175438596\n",
      "Mistakes:  139  out of  285\n"
     ]
    }
   ],
   "source": [
    "solo_acc, solo_mistakes, total = test(best_student_solo, dataloaders_dict)\n",
    "print('Accuracy: ', solo_acc)\n",
    "print('Mistakes: ', solo_mistakes, ' out of ', total)"
   ]
  },
  {
   "cell_type": "markdown",
   "metadata": {},
   "source": [
    "Модель-ученик:"
   ]
  },
  {
   "cell_type": "code",
   "execution_count": 102,
   "metadata": {},
   "outputs": [
    {
     "name": "stdout",
     "output_type": "stream",
     "text": [
      "Accuracy:  56.14035087719298\n",
      "Mistakes:  125  out of  285\n"
     ]
    }
   ],
   "source": [
    "student_acc, student_mistakes, total = test(best_student, dataloaders_dict)\n",
    "print('Accuracy: ', student_acc)\n",
    "print('Mistakes: ', student_mistakes, ' out of ', total)"
   ]
  },
  {
   "cell_type": "markdown",
   "metadata": {},
   "source": [
    "Я получил результат, схожий с полученным в оригинальной статье Hinton et al, пусть и не такой впечатляющий. Точнее, мне удалось повысить обобщаемость модели-ученика путем передачи ей dark knowledge от модели-учителя. "
   ]
  },
  {
   "cell_type": "markdown",
   "metadata": {},
   "source": [
    "### Гиперпараметры"
   ]
  },
  {
   "cell_type": "markdown",
   "metadata": {},
   "source": [
    "В предыдущих экспериментах я использовал значения $T=10$  и  $\\alpha=0.1$ (доля обычного CrossEntropyLoss'a). \n",
    "Посмотрим, как изменится результат в зависимости от изменения этих параметров.\n",
    "\n",
    "Для сокращения времени эксперимента я сокращу количество эпох до 100."
   ]
  },
  {
   "cell_type": "code",
   "execution_count": 104,
   "metadata": {},
   "outputs": [],
   "source": [
    "T_params = [2, 4, 8, 10, 16, 20]\n",
    "alpha_params = [0.1, 0.3, 0.5]"
   ]
  },
  {
   "cell_type": "code",
   "execution_count": null,
   "metadata": {},
   "outputs": [],
   "source": [
    "accuracies = np.zeros((6, 3))\n",
    "mistakes = np.zeros((6, 3))\n",
    "\n",
    "val_acc_histories = []\n",
    "\n",
    "for i in range(6):\n",
    "    for j in range(3):\n",
    "        student = StudentNetwork()\n",
    "        student = student.to(device)\n",
    "\n",
    "        optimizer = Ranger(student.parameters(), lr=0.001)\n",
    "        \n",
    "        student, student_val_acc_hist = train('student_T' + str(T_params[i]) + '_alpha' + str(alpha_params[j]), \n",
    "                                              student, \n",
    "                                              dataloaders_dict,\n",
    "                                              optimizer, \n",
    "                                              num_epochs=100,\n",
    "                                              teacher_model=model_ft,\n",
    "                                              T=T_params[i],\n",
    "                                              alpha=alpha_params[j])\n",
    "        \n",
    "        val_acc_histories.append(student_val_acc_hist)\n",
    "        \n",
    "        cur_model_acc, cur_model_mistakes, total = test(student, dataloaders_dict)\n",
    "        \n",
    "        accuracies[i][j] = cur_model_acc\n",
    "        mistakes[i][j] = cur_model_mistakes"
   ]
  },
  {
   "cell_type": "markdown",
   "metadata": {},
   "source": [
    "Посмотрим на результаты эксперимента"
   ]
  },
  {
   "cell_type": "code",
   "execution_count": 166,
   "metadata": {},
   "outputs": [],
   "source": [
    "import seaborn as sns"
   ]
  },
  {
   "cell_type": "code",
   "execution_count": 204,
   "metadata": {},
   "outputs": [
    {
     "data": {
      "text/plain": [
       "[Text(373.36363636363626, 0.5, 'T'),\n",
       " Text(0.5, 15.0, 'alpha'),\n",
       " Text(0.5, 1.0, 'Number of mistakes w.r.t.')]"
      ]
     },
     "execution_count": 204,
     "metadata": {},
     "output_type": "execute_result"
    },
    {
     "data": {
      "image/png": "[encoded data removed]",
      "text/plain": [
       "<Figure size 720x288 with 4 Axes>"
      ]
     },
     "metadata": {
      "needs_background": "light"
     },
     "output_type": "display_data"
    }
   ],
   "source": [
    "fig, ax = plt.subplots(1, 2, figsize=(10,4))\n",
    "acc_map = sns.heatmap(accuracies,\n",
    "                      ax=ax[0],\n",
    "                      annot=True, \n",
    "                      xticklabels=alpha_params, \n",
    "                      yticklabels=T_params)\n",
    "acc_map.set(title='Accuracy w.r.t', xlabel='alpha', ylabel='T')\n",
    "\n",
    "mistakes_map = sns.heatmap(mistakes,\n",
    "                      ax=ax[1],\n",
    "                      annot=True, \n",
    "                      xticklabels=alpha_params, \n",
    "                      yticklabels=T_params)\n",
    "mistakes_map.set(title='Number of mistakes w.r.t.', xlabel='alpha', ylabel='T')"
   ]
  },
  {
   "cell_type": "markdown",
   "metadata": {},
   "source": [
    "Из результатов эксперимента видно, что наилучший результат достигается при 'среднем' значении $T=10$ и параметре $\\alpha=0.5$, то есть когда лосс с ground truth labels и предсказаниями модели-учителя учитываются с равными весами. "
   ]
  },
  {
   "cell_type": "markdown",
   "metadata": {},
   "source": [
    "Подбор параметров $T$ и $\\alpha$ позволил за 100 эпох достичь улучшения на $4\\%$ по сравнению с моделью, обучавшейся без помощи учителя. "
   ]
  },
  {
   "cell_type": "code",
   "execution_count": null,
   "metadata": {},
   "outputs": [],
   "source": [
    "solo_net100 = StudentNetwork()\n",
    "solo_net100 = solo_net100.to(device)\n",
    "\n",
    "optim_solo100 = Ranger(solo_net100.parameters(), lr=0.001)\n",
    "criterion = nn.CrossEntropyLoss()\n",
    "\n",
    "solo_net100, _ = train_solo('solo_100', solo_net100, dataloaders_dict, criterion, optim_solo100, num_epochs=100)\n",
    "\n",
    "solo100_acc, solo_acc_mistakes, total = test(solo_net100, dataloaders_dict)\n",
    "print(solo100_acc)"
   ]
  },
  {
   "cell_type": "markdown",
   "metadata": {},
   "source": [
    "### Итоги"
   ]
  },
  {
   "cell_type": "markdown",
   "metadata": {},
   "source": [
    "В ходе выполнения этого тестового задания я познакомился с простейшим из методов Knowledge Distillation и экспериментально подтвердил его действенность.\n",
    "\n",
    "С помощью передачи знаний от большой модели-учителя маленькой модели-ученику мне удалось достичь прироста метрики Accuracy на $4\\%$."
   ]
  }
 ],
 "metadata": {
  "kernelspec": {
   "display_name": "Python 3",
   "language": "python",
   "name": "python3"
  },
  "language_info": {
   "codemirror_mode": {
    "name": "ipython",
    "version": 3
   },
   "file_extension": ".py",
   "mimetype": "text/x-python",
   "name": "python",
   "nbconvert_exporter": "python",
   "pygments_lexer": "ipython3",
   "version": "3.8.3"
  }
 },
 "nbformat": 4,
 "nbformat_minor": 4
}
